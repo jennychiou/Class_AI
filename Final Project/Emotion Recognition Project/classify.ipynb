{
 "cells": [
  {
   "cell_type": "code",
   "execution_count": 1,
   "metadata": {},
   "outputs": [
    {
     "name": "stderr",
     "output_type": "stream",
     "text": [
      "Using TensorFlow backend.\n"
     ]
    }
   ],
   "source": [
    "from keras.layers import Conv2D, MaxPooling2D, ZeroPadding2D\n",
    "from keras.layers import Dense, Activation, Dropout, Flatten\n",
    "from keras import optimizers\n",
    "from keras.models import Sequential\n",
    "from keras.preprocessing.image import ImageDataGenerator\n",
    "import numpy as np "
   ]
  },
  {
   "cell_type": "code",
   "execution_count": 2,
   "metadata": {},
   "outputs": [],
   "source": [
    "img_width = 150\n",
    "img_height = 150\n",
    "train_data_dir = 'data/train'\n",
    "valid_data_dir = 'data/validation'"
   ]
  },
  {
   "cell_type": "code",
   "execution_count": 3,
   "metadata": {},
   "outputs": [],
   "source": [
    "datagen = ImageDataGenerator(rescale = 1./255)"
   ]
  },
  {
   "cell_type": "code",
   "execution_count": 4,
   "metadata": {},
   "outputs": [
    {
     "name": "stdout",
     "output_type": "stream",
     "text": [
      "Found 2109 images belonging to 7 classes.\n"
     ]
    }
   ],
   "source": [
    "train_generator = datagen.flow_from_directory(directory=train_data_dir,\n",
    "                                              target_size=(img_width,img_height),\n",
    "                                              classes=['frustrated','confuse','bored','joy', 'shock','concentrated','neutral'],\n",
    "                                              class_mode='categorical',\n",
    "                                              batch_size=16)"
   ]
  },
  {
   "cell_type": "code",
   "execution_count": 5,
   "metadata": {},
   "outputs": [
    {
     "name": "stdout",
     "output_type": "stream",
     "text": [
      "Found 745 images belonging to 7 classes.\n"
     ]
    }
   ],
   "source": [
    "validation_generator = datagen.flow_from_directory(directory=valid_data_dir,\n",
    "                                                   target_size=(img_width,img_height),\n",
    "                                                   classes=['frustrated','confuse','bored','joy','shock','concentrated','neutral'],\n",
    "                                                   class_mode='categorical',\n",
    "                                                   batch_size=32)"
   ]
  },
  {
   "cell_type": "code",
   "execution_count": 6,
   "metadata": {},
   "outputs": [],
   "source": [
    "#0挫折frustrated / 1困惑confuse / 2無聊bored / 3喜悅joy / 4驚訝shock / 5投入concentrated / 6中性neutral\n",
    "\n",
    "model =Sequential()\n",
    "\n",
    "model.add(Conv2D(32,(3,3), input_shape=(img_width, img_height, 3)))\n",
    "model.add(Activation('relu'))\n",
    "model.add(MaxPooling2D(pool_size=(2,2)))\n",
    "\n",
    "model.add(Conv2D(32,(3,3), input_shape=(img_width, img_height, 3)))\n",
    "model.add(Activation('relu'))\n",
    "model.add(MaxPooling2D(pool_size=(2,2)))\n",
    "\n",
    "model.add(Conv2D(64,(3,3), input_shape=(img_width, img_height, 3)))\n",
    "model.add(Activation('relu'))\n",
    "model.add(MaxPooling2D(pool_size=(2,2)))\n",
    "\n",
    "model.add(Flatten())\n",
    "model.add(Dense(128))\n",
    "model.add(Activation('relu'))\n",
    "model.add(Dense(64))\n",
    "model.add(Activation('relu'))\n",
    "model.add(Dropout(0.5))\n",
    "model.add(Dense(7))\n",
    "model.add(Activation('sigmoid'))"
   ]
  },
  {
   "cell_type": "code",
   "execution_count": 7,
   "metadata": {},
   "outputs": [
    {
     "name": "stdout",
     "output_type": "stream",
     "text": [
      "_________________________________________________________________\n",
      "Layer (type)                 Output Shape              Param #   \n",
      "=================================================================\n",
      "conv2d_1 (Conv2D)            (None, 148, 148, 32)      896       \n",
      "_________________________________________________________________\n",
      "activation_1 (Activation)    (None, 148, 148, 32)      0         \n",
      "_________________________________________________________________\n",
      "max_pooling2d_1 (MaxPooling2 (None, 74, 74, 32)        0         \n",
      "_________________________________________________________________\n",
      "conv2d_2 (Conv2D)            (None, 72, 72, 32)        9248      \n",
      "_________________________________________________________________\n",
      "activation_2 (Activation)    (None, 72, 72, 32)        0         \n",
      "_________________________________________________________________\n",
      "max_pooling2d_2 (MaxPooling2 (None, 36, 36, 32)        0         \n",
      "_________________________________________________________________\n",
      "conv2d_3 (Conv2D)            (None, 34, 34, 64)        18496     \n",
      "_________________________________________________________________\n",
      "activation_3 (Activation)    (None, 34, 34, 64)        0         \n",
      "_________________________________________________________________\n",
      "max_pooling2d_3 (MaxPooling2 (None, 17, 17, 64)        0         \n",
      "_________________________________________________________________\n",
      "flatten_1 (Flatten)          (None, 18496)             0         \n",
      "_________________________________________________________________\n",
      "dense_1 (Dense)              (None, 128)               2367616   \n",
      "_________________________________________________________________\n",
      "activation_4 (Activation)    (None, 128)               0         \n",
      "_________________________________________________________________\n",
      "dense_2 (Dense)              (None, 64)                8256      \n",
      "_________________________________________________________________\n",
      "activation_5 (Activation)    (None, 64)                0         \n",
      "_________________________________________________________________\n",
      "dropout_1 (Dropout)          (None, 64)                0         \n",
      "_________________________________________________________________\n",
      "dense_3 (Dense)              (None, 7)                 455       \n",
      "_________________________________________________________________\n",
      "activation_6 (Activation)    (None, 7)                 0         \n",
      "=================================================================\n",
      "Total params: 2,404,967\n",
      "Trainable params: 2,404,967\n",
      "Non-trainable params: 0\n",
      "_________________________________________________________________\n",
      "None\n"
     ]
    }
   ],
   "source": [
    "print(model.summary())"
   ]
  },
  {
   "cell_type": "code",
   "execution_count": 8,
   "metadata": {},
   "outputs": [
    {
     "name": "stdout",
     "output_type": "stream",
     "text": [
      "Epoch 1/20\n",
      "128/128 [==============================] - 403s 3s/step - loss: 1.9359 - acc: 0.2227 - val_loss: 1.7188 - val_acc: 0.3875\n",
      "Epoch 2/20\n",
      "128/128 [==============================] - 366s 3s/step - loss: 1.3686 - acc: 0.5169 - val_loss: 1.2885 - val_acc: 0.6409\n",
      "Epoch 3/20\n",
      "128/128 [==============================] - 363s 3s/step - loss: 0.7557 - acc: 0.7354 - val_loss: 1.3372 - val_acc: 0.7151\n",
      "Epoch 4/20\n",
      "128/128 [==============================] - 392s 3s/step - loss: 0.4434 - acc: 0.8593 - val_loss: 1.2626 - val_acc: 0.7577\n",
      "Epoch 5/20\n",
      "128/128 [==============================] - 362s 3s/step - loss: 0.2567 - acc: 0.9218 - val_loss: 1.3396 - val_acc: 0.7515\n",
      "Epoch 6/20\n",
      "128/128 [==============================] - 355s 3s/step - loss: 0.1990 - acc: 0.9408 - val_loss: 1.8091 - val_acc: 0.7517\n",
      "Epoch 7/20\n",
      "128/128 [==============================] - 361s 3s/step - loss: 0.1452 - acc: 0.9546 - val_loss: 1.6808 - val_acc: 0.7831\n",
      "Epoch 8/20\n",
      "128/128 [==============================] - 366s 3s/step - loss: 0.0910 - acc: 0.9731 - val_loss: 1.9618 - val_acc: 0.7794\n",
      "Epoch 9/20\n",
      "128/128 [==============================] - 356s 3s/step - loss: 0.0909 - acc: 0.9731 - val_loss: 2.1357 - val_acc: 0.7899\n",
      "Epoch 10/20\n",
      "128/128 [==============================] - 357s 3s/step - loss: 0.0769 - acc: 0.9766 - val_loss: 2.5581 - val_acc: 0.7707\n",
      "Epoch 11/20\n",
      "128/128 [==============================] - 355s 3s/step - loss: 0.0714 - acc: 0.9810 - val_loss: 2.1419 - val_acc: 0.7726\n",
      "Epoch 12/20\n",
      "128/128 [==============================] - 341s 3s/step - loss: 0.0422 - acc: 0.9834 - val_loss: 2.1237 - val_acc: 0.7931\n",
      "Epoch 13/20\n",
      "128/128 [==============================] - 335s 3s/step - loss: 0.0450 - acc: 0.9849 - val_loss: 2.0546 - val_acc: 0.7979\n",
      "Epoch 14/20\n",
      "128/128 [==============================] - 351s 3s/step - loss: 0.0328 - acc: 0.9902 - val_loss: 2.2051 - val_acc: 0.7967\n",
      "Epoch 15/20\n",
      "128/128 [==============================] - 348s 3s/step - loss: 0.0325 - acc: 0.9897 - val_loss: 2.7477 - val_acc: 0.7726\n",
      "Epoch 16/20\n",
      "128/128 [==============================] - 331s 3s/step - loss: 0.0447 - acc: 0.9888 - val_loss: 2.5791 - val_acc: 0.7843\n",
      "Epoch 17/20\n",
      "128/128 [==============================] - 334s 3s/step - loss: 0.0309 - acc: 0.9927 - val_loss: 2.2718 - val_acc: 0.7886\n",
      "Epoch 18/20\n",
      "128/128 [==============================] - 336s 3s/step - loss: 0.0194 - acc: 0.9946 - val_loss: 2.6559 - val_acc: 0.7824\n",
      "Epoch 19/20\n",
      "128/128 [==============================] - 391s 3s/step - loss: 0.0341 - acc: 0.9902 - val_loss: 2.6205 - val_acc: 0.7831\n",
      "Epoch 20/20\n",
      "128/128 [==============================] - 355s 3s/step - loss: 0.0243 - acc: 0.9931 - val_loss: 2.7904 - val_acc: 0.7831\n"
     ]
    }
   ],
   "source": [
    "model.compile(loss='categorical_crossentropy',optimizer='rmsprop',metrics=['accuracy'])\n",
    "training = model.fit_generator(generator=train_generator, steps_per_epoch=2048 // 16,epochs=20,validation_data=validation_generator,validation_steps=832//16)\n",
    "model.save_weights('models/simple_CNN.h5')"
   ]
  },
  {
   "cell_type": "code",
   "execution_count": 9,
   "metadata": {},
   "outputs": [],
   "source": [
    "import matplotlib.pyplot as plt\n",
    "def show_train_history(train_acc,test_acc):\n",
    "    plt.plot(training.history[train_acc])\n",
    "    plt.plot(training.history[test_acc])\n",
    "    plt.title('Train History')\n",
    "    plt.ylabel('Accuracy')\n",
    "    plt.xlabel('Epoch')\n",
    "    plt.legend(['train', 'test'], loc='upper left')\n",
    "    plt.show()"
   ]
  },
  {
   "cell_type": "code",
   "execution_count": 10,
   "metadata": {},
   "outputs": [
    {
     "data": {
      "image/png": "[encoded data removed]",
      "text/plain": [
       "<Figure size 432x288 with 1 Axes>"
      ]
     },
     "metadata": {
      "needs_background": "light"
     },
     "output_type": "display_data"
    }
   ],
   "source": [
    "show_train_history('acc','val_acc')"
   ]
  },
  {
   "cell_type": "code",
   "execution_count": 11,
   "metadata": {},
   "outputs": [
    {
     "data": {
      "image/png": "[encoded data removed]",
      "text/plain": [
       "<Figure size 432x288 with 1 Axes>"
      ]
     },
     "metadata": {
      "needs_background": "light"
     },
     "output_type": "display_data"
    }
   ],
   "source": [
    "show_train_history('loss','val_loss')"
   ]
  }
 ],
 "metadata": {
  "kernelspec": {
   "display_name": "Python 3",
   "language": "python",
   "name": "python3"
  }
 },
 "nbformat": 4,
 "nbformat_minor": 2
}
